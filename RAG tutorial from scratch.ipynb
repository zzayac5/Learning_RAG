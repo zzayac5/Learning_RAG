{
 "cells": [
  {
   "metadata": {
    "ExecuteTime": {
     "end_time": "2025-07-16T03:36:48.521726Z",
     "start_time": "2025-07-16T03:36:44.334111Z"
    }
   },
   "cell_type": "code",
   "source": [
    "import getpass\n",
    "import os\n",
    "\n",
    "os.environ[\"LANGSMITH_TRACING\"] = \"true\"\n",
    "os.environ[\"LANGSMITH_API_KEY\"] = getpass.getpass()"
   ],
   "id": "67496726c8428687",
   "outputs": [],
   "execution_count": 8
  },
  {
   "metadata": {},
   "cell_type": "markdown",
   "source": "<p>Yikes that took me way longer than it should have. But I have already learned so much about writing code that is NOT on a web IDE like they use in code in place and also how to set up and interact with various of these enviros for success later so I will take that as a win.<p>",
   "id": "db4ec5186b17992d"
  },
  {
   "metadata": {
    "ExecuteTime": {
     "end_time": "2025-07-16T03:36:52.060841Z",
     "start_time": "2025-07-16T03:36:50.741211Z"
    }
   },
   "cell_type": "code",
   "source": [
    "from langchain_openai import ChatOpenAI\n",
    "llm = ChatOpenAI()\n",
    "print(llm.invoke(\"Hello again!\"))\n"
   ],
   "id": "3cb966b46126652e",
   "outputs": [
    {
     "name": "stderr",
     "output_type": "stream",
     "text": [
      "/Library/Frameworks/Python.framework/Versions/3.13/lib/python3.13/site-packages/langsmith/client.py:272: LangSmithMissingAPIKeyWarning: API key must be provided when using hosted LangSmith API\n",
      "  warnings.warn(\n",
      "Failed to multipart ingest runs: langsmith.utils.LangSmithAuthError: Authentication failed for https://api.smith.langchain.com/runs/multipart. HTTPError('401 Client Error: Unauthorized for url: https://api.smith.langchain.com/runs/multipart', '{\"error\":\"Unauthorized\"}\\n')trace=c29692f0-ef97-475d-b032-2f801819c1b1,id=c29692f0-ef97-475d-b032-2f801819c1b1\n"
     ]
    },
    {
     "name": "stdout",
     "output_type": "stream",
     "text": [
      "content=\"Hello! It's nice to see you back. How can I assist you today?\" additional_kwargs={'refusal': None} response_metadata={'token_usage': {'completion_tokens': 17, 'prompt_tokens': 10, 'total_tokens': 27, 'completion_tokens_details': {'accepted_prediction_tokens': 0, 'audio_tokens': 0, 'reasoning_tokens': 0, 'rejected_prediction_tokens': 0}, 'prompt_tokens_details': {'audio_tokens': 0, 'cached_tokens': 0}}, 'model_name': 'gpt-3.5-turbo-0125', 'system_fingerprint': None, 'id': 'chatcmpl-BtnEpZkacyh322SWJ77SuIBDSq3UM', 'service_tier': 'default', 'finish_reason': 'stop', 'logprobs': None} id='run--c29692f0-ef97-475d-b032-2f801819c1b1-0' usage_metadata={'input_tokens': 10, 'output_tokens': 17, 'total_tokens': 27, 'input_token_details': {'audio': 0, 'cache_read': 0}, 'output_token_details': {'audio': 0, 'reasoning': 0}}\n"
     ]
    },
    {
     "name": "stderr",
     "output_type": "stream",
     "text": [
      "Failed to send compressed multipart ingest: langsmith.utils.LangSmithAuthError: Authentication failed for https://api.smith.langchain.com/runs/multipart. HTTPError('401 Client Error: Unauthorized for url: https://api.smith.langchain.com/runs/multipart', '{\"error\":\"Unauthorized\"}\\n')trace=c29692f0-ef97-475d-b032-2f801819c1b1,id=c29692f0-ef97-475d-b032-2f801819c1b1\n"
     ]
    }
   ],
   "execution_count": 9
  },
  {
   "metadata": {
    "ExecuteTime": {
     "end_time": "2025-07-16T03:13:08.784868Z",
     "start_time": "2025-07-16T03:13:08.771930Z"
    }
   },
   "cell_type": "code",
   "source": [
    "import getpass\n",
    "import os\n",
    "\n",
    "if not os.environ.get(\"OPENAI_API_KEY\"):\n",
    "  os.environ[\"OPENAI_API_KEY\"] = getpass.getpass(\"Enter API key for OpenAI: \")\n",
    "\n",
    "from langchain.chat_models import init_chat_model\n",
    "\n",
    "llm = init_chat_model(\"gpt-4o-mini\", model_provider=\"openai\")"
   ],
   "id": "acc66c6ddf4f3c20",
   "outputs": [],
   "execution_count": 3
  },
  {
   "metadata": {
    "ExecuteTime": {
     "end_time": "2025-07-16T03:13:28.071708Z",
     "start_time": "2025-07-16T03:13:28.033783Z"
    }
   },
   "cell_type": "code",
   "source": [
    "import getpass\n",
    "import os\n",
    "\n",
    "if not os.environ.get(\"OPENAI_API_KEY\"):\n",
    "  os.environ[\"OPENAI_API_KEY\"] = getpass.getpass(\"Enter API key for OpenAI: \")\n",
    "\n",
    "from langchain_openai import OpenAIEmbeddings\n",
    "\n",
    "embeddings = OpenAIEmbeddings(model=\"text-embedding-3-large\")"
   ],
   "id": "1d5da08fb0b3731a",
   "outputs": [],
   "execution_count": 4
  },
  {
   "metadata": {
    "ExecuteTime": {
     "end_time": "2025-07-16T03:23:42.259158Z",
     "start_time": "2025-07-16T03:23:41.274398Z"
    }
   },
   "cell_type": "code",
   "source": "%pip install -qU pinecone-client",
   "id": "1f659fa7f6aec29f",
   "outputs": [
    {
     "name": "stdout",
     "output_type": "stream",
     "text": [
      "Note: you may need to restart the kernel to use updated packages.\n"
     ]
    }
   ],
   "execution_count": 2
  },
  {
   "metadata": {
    "ExecuteTime": {
     "end_time": "2025-07-16T03:24:00.185965Z",
     "start_time": "2025-07-16T03:24:00.155119Z"
    }
   },
   "cell_type": "code",
   "source": [
    "import os, pinecone\n",
    "\n",
    "print(\"Key:\", os.getenv(\"PINECONE_API_KEY\")[:8], \"…\")\n",
    "print(\"Env:\", os.getenv(\"PINECONE_ENVIRONMENT\"))\n",
    "\n",
    "pinecone.init(\n",
    "    api_key=os.environ[\"PINECONE_API_KEY\"],\n",
    "    environment=os.environ[\"PINECONE_ENVIRONMENT\"],\n",
    ")\n",
    "\n",
    "print(\"Pinecone ready – indexes:\", pinecone.list_indexes())\n"
   ],
   "id": "7f868ad61fd04267",
   "outputs": [
    {
     "ename": "Exception",
     "evalue": "The official Pinecone python package has been renamed from `pinecone-client` to `pinecone`. Please remove `pinecone-client` from your project dependencies and add `pinecone` instead. See the README at https://github.com/pinecone-io/pinecone-python-client for more information on using the python SDK.",
     "output_type": "error",
     "traceback": [
      "\u001B[31m---------------------------------------------------------------------------\u001B[39m",
      "\u001B[31mException\u001B[39m                                 Traceback (most recent call last)",
      "\u001B[36mCell\u001B[39m\u001B[36m \u001B[39m\u001B[32mIn[3]\u001B[39m\u001B[32m, line 1\u001B[39m\n\u001B[32m----> \u001B[39m\u001B[32m1\u001B[39m \u001B[38;5;28;01mimport\u001B[39;00m\u001B[38;5;250m \u001B[39m\u001B[34;01mos\u001B[39;00m,\u001B[38;5;250m \u001B[39m\u001B[34;01mpinecone\u001B[39;00m\n\u001B[32m      3\u001B[39m \u001B[38;5;28mprint\u001B[39m(\u001B[33m\"\u001B[39m\u001B[33mKey:\u001B[39m\u001B[33m\"\u001B[39m, os.getenv(\u001B[33m\"\u001B[39m\u001B[33mPINECONE_API_KEY\u001B[39m\u001B[33m\"\u001B[39m)[:\u001B[32m8\u001B[39m], \u001B[33m\"\u001B[39m\u001B[33m…\u001B[39m\u001B[33m\"\u001B[39m)\n\u001B[32m      4\u001B[39m \u001B[38;5;28mprint\u001B[39m(\u001B[33m\"\u001B[39m\u001B[33mEnv:\u001B[39m\u001B[33m\"\u001B[39m, os.getenv(\u001B[33m\"\u001B[39m\u001B[33mPINECONE_ENVIRONMENT\u001B[39m\u001B[33m\"\u001B[39m))\n",
      "\u001B[36mFile \u001B[39m\u001B[32m~/PycharmProjects/Learning_RAG/.venv/lib/python3.13/site-packages/pinecone/__init__.py:5\u001B[39m\n\u001B[32m      1\u001B[39m \u001B[33;03m\"\"\"\u001B[39;00m\n\u001B[32m      2\u001B[39m \u001B[33;03m.. include:: ../README.md\u001B[39;00m\n\u001B[32m      3\u001B[39m \u001B[33;03m\"\"\"\u001B[39;00m\n\u001B[32m----> \u001B[39m\u001B[32m5\u001B[39m \u001B[38;5;28;01mraise\u001B[39;00m \u001B[38;5;167;01mException\u001B[39;00m(\n\u001B[32m      6\u001B[39m     \u001B[33m\"\u001B[39m\u001B[33mThe official Pinecone python package has been renamed from `pinecone-client` to `pinecone`. Please remove `pinecone-client` from your project dependencies and add `pinecone` instead. See the README at https://github.com/pinecone-io/pinecone-python-client for more information on using the python SDK.\u001B[39m\u001B[33m\"\u001B[39m\n\u001B[32m      7\u001B[39m )\n",
      "\u001B[31mException\u001B[39m: The official Pinecone python package has been renamed from `pinecone-client` to `pinecone`. Please remove `pinecone-client` from your project dependencies and add `pinecone` instead. See the README at https://github.com/pinecone-io/pinecone-python-client for more information on using the python SDK."
     ]
    }
   ],
   "execution_count": 3
  },
  {
   "metadata": {},
   "cell_type": "markdown",
   "source": [
    "<p> Lets ask chatGPT: The import now fails because you have the old package (pinecone‑client) installed.\n",
    "In Apr2025 Pinecone renamed the SDK on PyPI from pinecone-client → pinecone\n",
    "and published a shim that raises the exception you just saw. <br/> How was I suppose to know that? <p>"
   ],
   "id": "68b2503057e9c8f0"
  },
  {
   "metadata": {
    "ExecuteTime": {
     "end_time": "2025-07-16T03:27:02.228015Z",
     "start_time": "2025-07-16T03:26:59.896658Z"
    }
   },
   "cell_type": "code",
   "source": [
    "%pip uninstall -y pinecone-client\n",
    "\n",
    "# install the new package\n",
    "%pip install -U pinecone        # installs the real SDK\n"
   ],
   "id": "8bf3f972b1c00841",
   "outputs": [
    {
     "name": "stdout",
     "output_type": "stream",
     "text": [
      "Found existing installation: pinecone-client 6.0.0\r\n",
      "Uninstalling pinecone-client-6.0.0:\r\n",
      "  Successfully uninstalled pinecone-client-6.0.0\r\n",
      "Note: you may need to restart the kernel to use updated packages.\n",
      "Collecting pinecone\r\n",
      "  Downloading pinecone-7.3.0-py3-none-any.whl.metadata (9.5 kB)\r\n",
      "Requirement already satisfied: certifi>=2019.11.17 in /Library/Frameworks/Python.framework/Versions/3.13/lib/python3.13/site-packages (from pinecone) (2025.7.9)\r\n",
      "Collecting pinecone-plugin-assistant<2.0.0,>=1.6.0 (from pinecone)\r\n",
      "  Downloading pinecone_plugin_assistant-1.7.0-py3-none-any.whl.metadata (28 kB)\r\n",
      "Requirement already satisfied: pinecone-plugin-interface<0.0.8,>=0.0.7 in ./.venv/lib/python3.13/site-packages (from pinecone) (0.0.7)\r\n",
      "Requirement already satisfied: python-dateutil>=2.5.3 in /Library/Frameworks/Python.framework/Versions/3.13/lib/python3.13/site-packages (from pinecone) (2.9.0.post0)\r\n",
      "Requirement already satisfied: typing-extensions>=3.7.4 in /Library/Frameworks/Python.framework/Versions/3.13/lib/python3.13/site-packages (from pinecone) (4.14.1)\r\n",
      "Requirement already satisfied: urllib3>=1.26.5 in /Library/Frameworks/Python.framework/Versions/3.13/lib/python3.13/site-packages (from pinecone) (2.5.0)\r\n",
      "Requirement already satisfied: packaging<25.0,>=24.2 in /Library/Frameworks/Python.framework/Versions/3.13/lib/python3.13/site-packages (from pinecone-plugin-assistant<2.0.0,>=1.6.0->pinecone) (24.2)\r\n",
      "Requirement already satisfied: requests<3.0.0,>=2.32.3 in /Library/Frameworks/Python.framework/Versions/3.13/lib/python3.13/site-packages (from pinecone-plugin-assistant<2.0.0,>=1.6.0->pinecone) (2.32.4)\r\n",
      "Requirement already satisfied: charset_normalizer<4,>=2 in /Library/Frameworks/Python.framework/Versions/3.13/lib/python3.13/site-packages (from requests<3.0.0,>=2.32.3->pinecone-plugin-assistant<2.0.0,>=1.6.0->pinecone) (3.4.2)\r\n",
      "Requirement already satisfied: idna<4,>=2.5 in /Library/Frameworks/Python.framework/Versions/3.13/lib/python3.13/site-packages (from requests<3.0.0,>=2.32.3->pinecone-plugin-assistant<2.0.0,>=1.6.0->pinecone) (3.10)\r\n",
      "Requirement already satisfied: six>=1.5 in /Library/Frameworks/Python.framework/Versions/3.13/lib/python3.13/site-packages (from python-dateutil>=2.5.3->pinecone) (1.17.0)\r\n",
      "Downloading pinecone-7.3.0-py3-none-any.whl (587 kB)\r\n",
      "\u001B[2K   \u001B[90m━━━━━━━━━━━━━━━━━━━━━━━━━━━━━━━━━━━━━━━━\u001B[0m \u001B[32m587.6/587.6 kB\u001B[0m \u001B[31m1.7 MB/s\u001B[0m eta \u001B[36m0:00:00\u001B[0ma \u001B[36m0:00:01\u001B[0m\r\n",
      "\u001B[?25hDownloading pinecone_plugin_assistant-1.7.0-py3-none-any.whl (239 kB)\r\n",
      "Installing collected packages: pinecone-plugin-assistant, pinecone\r\n",
      "\u001B[2K   \u001B[90m━━━━━━━━━━━━━━━━━━━━━━━━━━━━━━━━━━━━━━━━\u001B[0m \u001B[32m2/2\u001B[0m [pinecone]1/2\u001B[0m [pinecone]\r\n",
      "\u001B[1A\u001B[2KSuccessfully installed pinecone-7.3.0 pinecone-plugin-assistant-1.7.0\r\n",
      "Note: you may need to restart the kernel to use updated packages.\n"
     ]
    }
   ],
   "execution_count": 4
  },
  {
   "metadata": {
    "ExecuteTime": {
     "end_time": "2025-07-16T03:30:16.444294Z",
     "start_time": "2025-07-16T03:30:16.414220Z"
    }
   },
   "cell_type": "code",
   "source": [
    "from langchain_pinecone import PineconeVectorStore\n",
    "from pinecone import Pinecone\n",
    "\n",
    "pc = Pinecone(api_key=...)\n",
    "index = pc.Index(index_name)\n",
    "\n",
    "vector_store = PineconeVectorStore(embedding=embeddings, index=index)"
   ],
   "id": "9bd007bf7f68bc1b",
   "outputs": [
    {
     "ename": "ModuleNotFoundError",
     "evalue": "No module named 'langchain_pinecone'",
     "output_type": "error",
     "traceback": [
      "\u001B[31m---------------------------------------------------------------------------\u001B[39m",
      "\u001B[31mModuleNotFoundError\u001B[39m                       Traceback (most recent call last)",
      "\u001B[36mCell\u001B[39m\u001B[36m \u001B[39m\u001B[32mIn[6]\u001B[39m\u001B[32m, line 1\u001B[39m\n\u001B[32m----> \u001B[39m\u001B[32m1\u001B[39m \u001B[38;5;28;01mfrom\u001B[39;00m\u001B[38;5;250m \u001B[39m\u001B[34;01mlangchain_pinecone\u001B[39;00m\u001B[38;5;250m \u001B[39m\u001B[38;5;28;01mimport\u001B[39;00m PineconeVectorStore\n\u001B[32m      2\u001B[39m \u001B[38;5;28;01mfrom\u001B[39;00m\u001B[38;5;250m \u001B[39m\u001B[34;01mpinecone\u001B[39;00m\u001B[38;5;250m \u001B[39m\u001B[38;5;28;01mimport\u001B[39;00m Pinecone\n\u001B[32m      4\u001B[39m pc = Pinecone(api_key=...)\n",
      "\u001B[31mModuleNotFoundError\u001B[39m: No module named 'langchain_pinecone'"
     ]
    }
   ],
   "execution_count": 6
  },
  {
   "metadata": {
    "ExecuteTime": {
     "end_time": "2025-07-16T03:33:44.264239Z",
     "start_time": "2025-07-16T03:33:43.737105Z"
    }
   },
   "cell_type": "code",
   "source": [
    "\n",
    "from langchain_openai import OpenAIEmbeddings\n",
    "embeddings = OpenAIEmbeddings()\n",
    "\n",
    "\n",
    "from pinecone import Pinecone\n",
    "from langchain_pinecone import PineconeVectorStore\n",
    "\n",
    "pc = Pinecone()\n",
    "\n",
    "# REQUIRED: either environment **or** host\n",
    "index_name = \"demo-rag\"\n",
    "pc.create_index(\n",
    "    name=index_name,\n",
    "    dimension=embeddings.embedding_dimensions,\n",
    "    metric=\"cosine\",\n",
    "    environment=os.environ[\"PINECONE_ENVIRONMENT\"],\n",
    ")\n",
    "\n",
    "index = pc.Index(index_name)\n",
    "\n",
    "\n",
    "vector_store = PineconeVectorStore(\n",
    "    embedding=embeddings,\n",
    "    index=index,\n",
    ")\n",
    "print(\"Vector store ready:\", vector_store)\n"
   ],
   "id": "e7ec9b5c4eabf69a",
   "outputs": [
    {
     "ename": "ModuleNotFoundError",
     "evalue": "No module named 'langchain_pinecone'",
     "output_type": "error",
     "traceback": [
      "\u001B[31m---------------------------------------------------------------------------\u001B[39m",
      "\u001B[31mModuleNotFoundError\u001B[39m                       Traceback (most recent call last)",
      "\u001B[36mCell\u001B[39m\u001B[36m \u001B[39m\u001B[32mIn[7]\u001B[39m\u001B[32m, line 6\u001B[39m\n\u001B[32m      2\u001B[39m embeddings = OpenAIEmbeddings()                       \n\u001B[32m      5\u001B[39m \u001B[38;5;28;01mfrom\u001B[39;00m\u001B[38;5;250m \u001B[39m\u001B[34;01mpinecone\u001B[39;00m\u001B[38;5;250m \u001B[39m\u001B[38;5;28;01mimport\u001B[39;00m Pinecone\n\u001B[32m----> \u001B[39m\u001B[32m6\u001B[39m \u001B[38;5;28;01mfrom\u001B[39;00m\u001B[38;5;250m \u001B[39m\u001B[34;01mlangchain_pinecone\u001B[39;00m\u001B[38;5;250m \u001B[39m\u001B[38;5;28;01mimport\u001B[39;00m PineconeVectorStore\n\u001B[32m      8\u001B[39m pc = Pinecone()                                        \n\u001B[32m     10\u001B[39m \u001B[38;5;66;03m# REQUIRED: either environment **or** host\u001B[39;00m\n",
      "\u001B[31mModuleNotFoundError\u001B[39m: No module named 'langchain_pinecone'"
     ]
    }
   ],
   "execution_count": 7
  }
 ],
 "metadata": {
  "kernelspec": {
   "display_name": "Python 3",
   "language": "python",
   "name": "python3"
  },
  "language_info": {
   "codemirror_mode": {
    "name": "ipython",
    "version": 2
   },
   "file_extension": ".py",
   "mimetype": "text/x-python",
   "name": "python",
   "nbconvert_exporter": "python",
   "pygments_lexer": "ipython2",
   "version": "2.7.6"
  }
 },
 "nbformat": 4,
 "nbformat_minor": 5
}
